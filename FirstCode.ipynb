{
  "nbformat": 4,
  "nbformat_minor": 0,
  "metadata": {
    "colab": {
      "name": "FirsyCode.ipynb",
      "provenance": [],
      "collapsed_sections": [],
      "authorship_tag": "ABX9TyO7g+o6piXSgt8GbB5hiIil",
      "include_colab_link": true
    },
    "kernelspec": {
      "name": "python3",
      "display_name": "Python 3"
    }
  },
  "cells": [
    {
      "cell_type": "markdown",
      "metadata": {
        "id": "view-in-github",
        "colab_type": "text"
      },
      "source": [
        "<a href=\"https://colab.research.google.com/github/AkshatChhapolia/Complete-Python-3-Bootcamp/blob/master/FirstCode.ipynb\" target=\"_parent\"><img src=\"https://colab.research.google.com/assets/colab-badge.svg\" alt=\"Open In Colab\"/></a>"
      ]
    },
    {
      "cell_type": "code",
      "metadata": {
        "id": "tULizRjgjqiG"
      },
      "source": [
        "# Motivation-My first code of machine learning using python, you all motivated me and \r\n",
        "# because of you all trying the fascinating world of machine learning for the first time.\r\n",
        "# Thankyou all\r\n",
        "# DESCRIPTION : Build a simple machine learning program for the first time."
      ],
      "execution_count": null,
      "outputs": []
    },
    {
      "cell_type": "code",
      "metadata": {
        "id": "BDovJqX3keDW"
      },
      "source": [
        "#Next we are going to import the dependencies\r\n",
        "from sklearn.linear_model import LinearRegression\r\n",
        "import random"
      ],
      "execution_count": null,
      "outputs": []
    },
    {
      "cell_type": "code",
      "metadata": {
        "id": "2uCHVnnnliJr"
      },
      "source": [
        "#Creating empty lists for storinf data\r\n",
        "feature_set=[]\r\n",
        "target_set=[]"
      ],
      "execution_count": null,
      "outputs": []
    },
    {
      "cell_type": "code",
      "metadata": {
        "id": "kqIVyJMyl2q2"
      },
      "source": [
        "#getting the number of rows from the data set\r\n",
        "number_of_rows=200\r\n",
        "\r\n",
        "#limit the possible values in the data set\r\n",
        "random_number_limit=2000"
      ],
      "execution_count": null,
      "outputs": []
    },
    {
      "cell_type": "code",
      "metadata": {
        "id": "AZTrcvznmKk9"
      },
      "source": [
        "#Create the dataset\r\n",
        "\r\n",
        "#Create the feature dataset\r\n",
        "for i in range(0,number_of_rows):\r\n",
        "  x=random.randint(0, random_number_limit)\r\n",
        "  y=random.randint(0, random_number_limit)\r\n",
        "  z=random.randint(0, random_number_limit)\r\n",
        "\r\n",
        "  #Create a linear function for the target dataset\r\n",
        "  function=(10*x)+(2*y)+(3*z)\r\n",
        "  \r\n",
        "  #appending this data to the list\r\n",
        "  feature_set.append([x,y,z])\r\n",
        "  target_set.append(function)"
      ],
      "execution_count": null,
      "outputs": []
    },
    {
      "cell_type": "code",
      "metadata": {
        "colab": {
          "base_uri": "https://localhost:8080/"
        },
        "id": "SyS1mlbfxUG6",
        "outputId": "fa9275f5-59e8-444c-d96b-a1a32ec6b065"
      },
      "source": [
        "#Create the linear regression model\r\n",
        "model=LinearRegression()\r\n",
        "model.fit(feature_set,target_set)"
      ],
      "execution_count": null,
      "outputs": [
        {
          "output_type": "execute_result",
          "data": {
            "text/plain": [
              "LinearRegression(copy_X=True, fit_intercept=True, n_jobs=None, normalize=False)"
            ]
          },
          "metadata": {
            "tags": []
          },
          "execution_count": 24
        }
      ]
    },
    {
      "cell_type": "code",
      "metadata": {
        "id": "hg1Uw7JVxyF7"
      },
      "source": [
        "#Create the test data set 1\r\n",
        "test_set1=[[8,10,0]] #From this the output which we can expect is:function(8,10,0)= (10*8) + (2*10) + (3*0) = 100\r\n",
        "\r\n",
        "prediction=model.predict(test_set1)"
      ],
      "execution_count": null,
      "outputs": []
    },
    {
      "cell_type": "code",
      "metadata": {
        "colab": {
          "base_uri": "https://localhost:8080/"
        },
        "id": "y5ChnZB6zI83",
        "outputId": "737d2b49-bd2a-4f3b-a190-74febe075cb7"
      },
      "source": [
        "\r\n",
        "#Now program is going to print the predicted value of the test_set and also the coefficient\r\n",
        "print('Prediction of the value: '+str(prediction)+' COefficient: '+str(model.coef_))"
      ],
      "execution_count": null,
      "outputs": [
        {
          "output_type": "stream",
          "text": [
            "Prediction of the value: [100.] COefficient: [10.  2.  3.]\n"
          ],
          "name": "stdout"
        }
      ]
    },
    {
      "cell_type": "code",
      "metadata": {
        "id": "T4mHppgX1BBD"
      },
      "source": [
        "#Create the test data set 2\r\n",
        "test_set1=[[8,10,0]] #From this the output which we can expect is:function(8,10,0)= (10*8) + (2*10) + (3*0) = 100\r\n",
        "\r\n",
        "prediction=model.predict(test_set1)"
      ],
      "execution_count": null,
      "outputs": []
    },
    {
      "cell_type": "code",
      "metadata": {
        "id": "GxJS7ovE0Mun"
      },
      "source": [
        "#We see that not only the predicted value is correct or very precisely but the predictions about the coefficient is also correct.\r\n",
        "#This is it for the program from a beginners side, hope you all liked it.\r\n",
        "#Will be trying more of the programs in machine learning and posting it, Thankyou"
      ],
      "execution_count": null,
      "outputs": []
    }
  ]
}